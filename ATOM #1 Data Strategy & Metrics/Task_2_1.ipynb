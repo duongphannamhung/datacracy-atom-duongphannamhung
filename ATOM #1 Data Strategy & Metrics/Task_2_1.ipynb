{
  "nbformat": 4,
  "nbformat_minor": 0,
  "metadata": {
    "colab": {
      "name": "Task 2.1.ipynb",
      "provenance": [],
      "collapsed_sections": [],
      "authorship_tag": "ABX9TyPqi3xwTmHv2dC01IwHZgLu",
      "include_colab_link": true
    },
    "kernelspec": {
      "name": "python3",
      "display_name": "Python 3"
    },
    "language_info": {
      "name": "python"
    }
  },
  "cells": [
    {
      "cell_type": "markdown",
      "metadata": {
        "id": "view-in-github",
        "colab_type": "text"
      },
      "source": [
        "<a href=\"https://colab.research.google.com/github/duongphannamhung/datacracy-atom-duongphannamhung/blob/main/ATOM%20%231%20Data%20Strategy%20%26%20Metrics/Task_2_1.ipynb\" target=\"_parent\"><img src=\"https://colab.research.google.com/assets/colab-badge.svg\" alt=\"Open In Colab\"/></a>"
      ]
    },
    {
      "cell_type": "code",
      "metadata": {
        "colab": {
          "base_uri": "https://localhost:8080/"
        },
        "id": "3HqEcFyg9ID8",
        "outputId": "5199d7d0-96a1-45eb-9ec0-d90f7b6d4f1d"
      },
      "source": [
        "print('Hello, world!')\n",
        "print('What is your name?')"
      ],
      "execution_count": null,
      "outputs": [
        {
          "output_type": "stream",
          "text": [
            "Hello, world!\n",
            "What is your name?\n"
          ],
          "name": "stdout"
        }
      ]
    },
    {
      "cell_type": "code",
      "metadata": {
        "colab": {
          "base_uri": "https://localhost:8080/"
        },
        "id": "6E5rEDaV-v5L",
        "outputId": "087983bb-110b-4212-8171-1efb11df61e5"
      },
      "source": [
        "myName = input()"
      ],
      "execution_count": null,
      "outputs": [
        {
          "output_type": "stream",
          "text": [
            "Duong Phan Nam Hung\n"
          ],
          "name": "stdout"
        }
      ]
    },
    {
      "cell_type": "code",
      "metadata": {
        "colab": {
          "base_uri": "https://localhost:8080/"
        },
        "id": "nQb-yKnb-3zq",
        "outputId": "6afaacab-d885-4a19-a0a9-02d2fe084cf7"
      },
      "source": [
        "print('It is good to meet you , ' + myName)"
      ],
      "execution_count": null,
      "outputs": [
        {
          "output_type": "stream",
          "text": [
            "It is good to meet you , Duong Phan Nam Hung\n"
          ],
          "name": "stdout"
        }
      ]
    },
    {
      "cell_type": "code",
      "metadata": {
        "colab": {
          "base_uri": "https://localhost:8080/"
        },
        "id": "cl3EIB0O_BWt",
        "outputId": "cc08bee5-a365-4fc2-d5d9-c1100391c8a3"
      },
      "source": [
        "print('The length of your name is: ')\n",
        "print(len(myName.replace(\" \",\"\")))"
      ],
      "execution_count": null,
      "outputs": [
        {
          "output_type": "stream",
          "text": [
            "The length of your name is: \n",
            "16\n"
          ],
          "name": "stdout"
        }
      ]
    },
    {
      "cell_type": "code",
      "metadata": {
        "colab": {
          "base_uri": "https://localhost:8080/"
        },
        "id": "CkrySz5m_Nv8",
        "outputId": "c00c5c85-8883-4a95-e7e5-a966232aa506"
      },
      "source": [
        "print('What is your age?')\n",
        "myAge = input()\n",
        "print('You will be ' + str(int(myAge)+1) + ' in a year.')"
      ],
      "execution_count": null,
      "outputs": [
        {
          "output_type": "stream",
          "text": [
            "What is your age?\n",
            "24\n",
            "You will be 25 in a year.\n"
          ],
          "name": "stdout"
        }
      ]
    },
    {
      "cell_type": "code",
      "metadata": {
        "id": "DehX-eYG_bQ3"
      },
      "source": [
        ""
      ],
      "execution_count": null,
      "outputs": []
    }
  ]
}